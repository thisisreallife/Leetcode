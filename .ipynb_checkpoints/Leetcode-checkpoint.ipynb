{
 "cells": [
  {
   "cell_type": "code",
   "execution_count": 13,
   "metadata": {
    "ExecuteTime": {
     "end_time": "2019-08-27T10:45:42.344628Z",
     "start_time": "2019-08-27T10:45:39.081729Z"
    }
   },
   "outputs": [
    {
     "name": "stdout",
     "output_type": "stream",
     "text": [
      "12 213 213\n"
     ]
    }
   ],
   "source": [
    "import sys\n",
    "x = input()"
   ]
  },
  {
   "cell_type": "code",
   "execution_count": 90,
   "metadata": {
    "ExecuteTime": {
     "end_time": "2019-08-27T13:36:02.254924Z",
     "start_time": "2019-08-27T13:36:02.249963Z"
    },
    "collapsed": true
   },
   "outputs": [],
   "source": [
    "def solve(eq,var='x'):\n",
    "    eq1 = eq.replace(\"=\",\"-(\")+\")\"\n",
    "    c = eval(eq1,{var:1j})\n",
    "    return round(-c.real/c.imag,2)"
   ]
  },
  {
   "cell_type": "code",
   "execution_count": 93,
   "metadata": {
    "ExecuteTime": {
     "end_time": "2019-08-27T13:36:21.476430Z",
     "start_time": "2019-08-27T13:36:18.614301Z"
    }
   },
   "outputs": [
    {
     "name": "stdout",
     "output_type": "stream",
     "text": [
      "2x-10=0\n"
     ]
    },
    {
     "ename": "SyntaxError",
     "evalue": "invalid syntax (<string>, line 1)",
     "output_type": "error",
     "traceback": [
      "\u001b[1;36m  File \u001b[1;32m\"<string>\"\u001b[1;36m, line \u001b[1;32m1\u001b[0m\n\u001b[1;33m    2x-10-(0)\u001b[0m\n\u001b[1;37m     ^\u001b[0m\n\u001b[1;31mSyntaxError\u001b[0m\u001b[1;31m:\u001b[0m invalid syntax\n"
     ]
    }
   ],
   "source": [
    "test = input()\n",
    "print(solve(test))"
   ]
  },
  {
   "cell_type": "code",
   "execution_count": 89,
   "metadata": {
    "ExecuteTime": {
     "end_time": "2019-08-27T13:35:05.949299Z",
     "start_time": "2019-08-27T13:35:05.938348Z"
    }
   },
   "outputs": [
    {
     "name": "stdout",
     "output_type": "stream",
     "text": [
      "1*x  -( 0)\n",
      "x=-0.0\n"
     ]
    }
   ],
   "source": [
    "def solve(eq,var='x'):\n",
    "    eq1 = eq.replace(\"=\",\"-(\")+\")\"\n",
    "    eq1 = eq1.replace(\"x\",\"*x\")\n",
    "    eq1 = eq1.replace(\"+*x\",\"+x\")\n",
    "    eq1 = eq1.replace(\"-*x\",\"-x\")\n",
    "    eq1 = eq1.replace(\"(*x\",\"(x\")\n",
    "    c = eval(eq1,{'x':1j})\n",
    "    print(eq1)\n",
    "    return round(-c.real/c.imag,1)\n",
    "\n",
    "test = '1x  = 0'\n",
    "print('x=' + str(solve(test)))\n"
   ]
  },
  {
   "cell_type": "code",
   "execution_count": 71,
   "metadata": {
    "ExecuteTime": {
     "end_time": "2019-08-27T13:27:41.110437Z",
     "start_time": "2019-08-27T13:27:41.105440Z"
    }
   },
   "outputs": [
    {
     "data": {
      "text/plain": [
       "2j"
      ]
     },
     "execution_count": 71,
     "metadata": {},
     "output_type": "execute_result"
    }
   ],
   "source": [
    "'2x'.replace('x','*x')\n",
    "eval('2*x',{'x' : 1j})"
   ]
  },
  {
   "cell_type": "code",
   "execution_count": 83,
   "metadata": {
    "ExecuteTime": {
     "end_time": "2019-08-27T13:32:41.797109Z",
     "start_time": "2019-08-27T13:32:41.791158Z"
    }
   },
   "outputs": [
    {
     "data": {
      "text/plain": [
       "['', ' - 10 = 0 ']"
      ]
     },
     "execution_count": 83,
     "metadata": {},
     "output_type": "execute_result"
    }
   ],
   "source": []
  },
  {
   "cell_type": "code",
   "execution_count": 60,
   "metadata": {
    "ExecuteTime": {
     "end_time": "2019-08-27T13:23:31.417351Z",
     "start_time": "2019-08-27T13:23:31.410409Z"
    }
   },
   "outputs": [
    {
     "ename": "SyntaxError",
     "evalue": "invalid syntax (<ipython-input-60-0132aeb45b4a>, line 9)",
     "output_type": "error",
     "traceback": [
      "\u001b[1;36m  File \u001b[1;32m\"<ipython-input-60-0132aeb45b4a>\"\u001b[1;36m, line \u001b[1;32m9\u001b[0m\n\u001b[1;33m    else:\u001b[0m\n\u001b[1;37m       ^\u001b[0m\n\u001b[1;31mSyntaxError\u001b[0m\u001b[1;31m:\u001b[0m invalid syntax\n"
     ]
    }
   ],
   "source": [
    "while 1:\n",
    "    a=[]  \n",
    "    s = input()\n",
    "  \n",
    "    if s != \"\":\n",
    "        for x in s.split():  \n",
    "            a.append(int(x))  \n",
    "    print(a)\n",
    "    else:\n",
    "        break"
   ]
  },
  {
   "cell_type": "markdown",
   "metadata": {
    "ExecuteTime": {
     "end_time": "2019-04-13T13:07:07.273522Z",
     "start_time": "2019-04-13T13:07:07.269503Z"
    }
   },
   "source": [
    "# 记得 int ！！"
   ]
  },
  {
   "cell_type": "code",
   "execution_count": null,
   "metadata": {
    "ExecuteTime": {
     "start_time": "2019-08-27T10:57:50.680Z"
    },
    "collapsed": true
   },
   "outputs": [],
   "source": [
    "import math\n",
    "N = 100\n",
    "M = 382"
   ]
  },
  {
   "cell_type": "code",
   "execution_count": 2,
   "metadata": {
    "ExecuteTime": {
     "end_time": "2019-08-04T01:21:31.578676Z",
     "start_time": "2019-08-04T01:21:31.561686Z"
    }
   },
   "outputs": [
    {
     "name": "stdout",
     "output_type": "stream",
     "text": [
      "474,0,382\n",
      "283,0,191\n",
      "380,95,191\n",
      "428,143,191\n",
      "404,143,167\n",
      "393,143,155\n",
      "387,143,149\n",
      "381,143,146\n",
      "386,144,146\n",
      "144\n"
     ]
    }
   ],
   "source": [
    "a1_min = 0\n",
    "a1_max = M\n",
    "while a1_min + 1 != a1_max:\n",
    "    a1 = int((a1_min + a1_max)/2)\n",
    "    SN = 0\n",
    "    an = a1\n",
    "    for i in range(N):\n",
    "        SN += an\n",
    "        an = math.ceil(an/2)\n",
    "    print('{0},{1},{2}'.format(SN,a1_min,a1_max))\n",
    "    if SN > M:\n",
    "        a1_max = int((a1_min + a1_max)/2)\n",
    "    elif SN < M:\n",
    "        a1_min = int((a1_min + a1_max)/2)\n",
    "    else:\n",
    "        res = a1\n",
    "        break\n",
    "\n",
    "if N == 1:\n",
    "    print(M)\n",
    "else:\n",
    "    print(a1_min if a1_min +1 == a1_max else a1 )    "
   ]
  },
  {
   "cell_type": "code",
   "execution_count": 64,
   "metadata": {
    "ExecuteTime": {
     "end_time": "2019-04-06T13:39:24.718504Z",
     "start_time": "2019-04-06T13:39:24.713506Z"
    }
   },
   "outputs": [
    {
     "name": "stdout",
     "output_type": "stream",
     "text": [
      "144\n"
     ]
    }
   ],
   "source": [
    "N = 100\n",
    "Q = 382\n",
    "day1_eat = Q\n",
    "#从一半开始判断\n",
    "max_eat = Q\n",
    "while day1_eat >= 0:\n",
    "    days = N \n",
    "    eat = 0\n",
    "    every_day_eat = day1_eat\n",
    "    while days > 0:\n",
    "        eat += every_day_eat\n",
    "        every_day_eat = int(every_day_eat/2) if every_day_eat % 2 == 0 else int(every_day_eat/2) + 1\n",
    "        days -= 1\n",
    "        if every_day_eat == 1:\n",
    "            eat += days\n",
    "            break\n",
    "\n",
    "    #从大到小第一个满足要求的即可\n",
    "    if eat <= Q:\n",
    "        max_eat = day1_eat\n",
    "        break\n",
    "    day1_eat -= 1\n",
    "print(max_eat)"
   ]
  },
  {
   "cell_type": "markdown",
   "metadata": {
    "ExecuteTime": {
     "end_time": "2019-04-07T02:40:32.806062Z",
     "start_time": "2019-04-07T02:40:32.803063Z"
    }
   },
   "source": [
    "### 5. Longest Palindromic Substring\n",
    "\n",
    "Given a string s, find the longest palindromic substring in s. You may assume that the maximum length of s is 1000.\n",
    "\n",
    "Example 1:\n",
    "```\n",
    "Input: \"babad\"\n",
    "Output: \"bab\"\n",
    "Note: \"aba\" is also a valid answer.\n",
    "```\n",
    "Example 2:\n",
    "```\n",
    "Input: \"cbbd\"\n",
    "Output: \"bb\"\n",
    "```"
   ]
  },
  {
   "cell_type": "code",
   "execution_count": 68,
   "metadata": {
    "ExecuteTime": {
     "end_time": "2019-04-07T03:06:23.985114Z",
     "start_time": "2019-04-07T03:06:23.980099Z"
    },
    "collapsed": true
   },
   "outputs": [],
   "source": [
    "class Solution3:\n",
    "    def longestPalindrome(self, s: str) -> str:\n",
    "        if s is \"\":\n",
    "            return s\n",
    "        res = \"\"\n",
    "        dp = [[None for i in range(len(s))] for j in range(len(s))]\n",
    "        for j in range(len(s)):\n",
    "            for i in range(j+1):\n",
    "                if i == j:\n",
    "                    dp[j][i] = True\n",
    "                elif j == i+1:\n",
    "                    dp[j][i] = (s[i] == s[j])\n",
    "                else:\n",
    "                    dp[j][i] = (dp[j-1][i+1] and s[i] == s[j])\n",
    "                if dp[j][i] and j - i + 1 > len(res):\n",
    "                    res = s[i:j+1]\n",
    "        return res"
   ]
  },
  {
   "cell_type": "code",
   "execution_count": 66,
   "metadata": {
    "ExecuteTime": {
     "end_time": "2019-04-07T03:04:03.948684Z",
     "start_time": "2019-04-07T03:04:03.943686Z"
    },
    "collapsed": true
   },
   "outputs": [],
   "source": [
    "class Solution3:\n",
    "    def longestPalindrome(self, s: str) -> str:\n",
    "        if s is \"\":\n",
    "            return s\n",
    "        res = \"\"\n",
    "        dp = [None for i in range(len(s))]\n",
    "        for j in range(len(s)):\n",
    "            for i in range(j+1):\n",
    "                \n",
    "                if i == j:\n",
    "                    dp[i] = True\n",
    "                elif j == i+1:\n",
    "                    dp[i] = (s[i] == s[j])\n",
    "                else:\n",
    "                    dp[i] = (dp[i+1] and s[i] == s[j])\n",
    "                \n",
    "                if dp[i] and j - i + 1 > len(res):\n",
    "                    res = s[i:j+1]\n",
    "                print('i = {0},j = {1},dp[{0}] = {2},res = {3}'.format(i,j,dp[i],res))\n",
    "        return res"
   ]
  },
  {
   "cell_type": "code",
   "execution_count": 69,
   "metadata": {
    "ExecuteTime": {
     "end_time": "2019-04-07T03:06:27.080050Z",
     "start_time": "2019-04-07T03:06:27.075052Z"
    }
   },
   "outputs": [
    {
     "data": {
      "text/plain": [
       "'2345432'"
      ]
     },
     "execution_count": 69,
     "metadata": {},
     "output_type": "execute_result"
    }
   ],
   "source": [
    "a = Solution3()\n",
    "a.longestPalindrome('123454320')"
   ]
  },
  {
   "cell_type": "code",
   "execution_count": 70,
   "metadata": {
    "ExecuteTime": {
     "end_time": "2019-04-07T03:22:11.063393Z",
     "start_time": "2019-04-07T03:22:11.058394Z"
    },
    "collapsed": true
   },
   "outputs": [],
   "source": [
    "class Solution4:\n",
    "    def longestPalindrome(self, s: str) -> str:\n",
    "        if s is '': \n",
    "            return s\n",
    "        max_len = 0 \n",
    "        start, end = 0, 0\n",
    "        for i in range(len(s)):\n",
    "            len1 = self.expandFromCenter(s, i, i)\n",
    "            len2 = self.expandFromCenter(s, i, i+1)\n",
    "            l = max(len1, len2)\n",
    "            if l > end - start:\n",
    "                start = i - (l - 1) // 2\n",
    "                end = i + l // 2\n",
    "\n",
    "        return s[start:end+1]\n",
    "\n",
    "    def expandFromCenter(self, s, idx1, idx2):\n",
    "        while idx1 >= 0 and idx2 < len(s) and s[idx1] == s[idx2]:\n",
    "            idx1 -= 1\n",
    "            idx2 += 1\n",
    "        return idx2 - idx1 - 1 "
   ]
  },
  {
   "cell_type": "code",
   "execution_count": 73,
   "metadata": {
    "ExecuteTime": {
     "end_time": "2019-04-07T03:25:53.010782Z",
     "start_time": "2019-04-07T03:25:53.005784Z"
    }
   },
   "outputs": [
    {
     "data": {
      "text/plain": [
       "'aba'"
      ]
     },
     "execution_count": 73,
     "metadata": {},
     "output_type": "execute_result"
    }
   ],
   "source": [
    "a = Solution4()\n",
    "a.longestPalindrome('123454320')"
   ]
  },
  {
   "cell_type": "markdown",
   "metadata": {},
   "source": [
    "### 53. Maximum Subarray\n",
    "\n",
    "Given an integer array `nums`, find the contiguous `subarray` (containing at least one number) which has the largest sum and return its sum.\n",
    "\n",
    "**Example:**\n",
    "\n",
    ">```\n",
    "Input: [-2,1,-3,4,-1,2,1,-5,4],\n",
    "Output: 6\n",
    "Explanation: [4,-1,2,1] has the largest sum = 6.\n",
    "```\n",
    "\n",
    "**Follow up:**\n",
    "\n",
    "If you have figured out the O(n) solution, try coding another solution using the divide and conquer approach, which is more subtle."
   ]
  },
  {
   "cell_type": "markdown",
   "metadata": {},
   "source": [
    "There is DP solution with time complexity O(N^2) and space complecity O(N):[Max Contiguous Subarray Sum - Cubic Time To Kadane's Algorithm (\"Maximum Subarray\" on LeetCode](https://www.youtube.com/watch?v=2MmGzdiKR9Y&t=5s)"
   ]
  },
  {
   "cell_type": "code",
   "execution_count": 150,
   "metadata": {
    "ExecuteTime": {
     "end_time": "2019-04-07T07:49:00.572818Z",
     "start_time": "2019-04-07T07:49:00.568819Z"
    },
    "collapsed": true
   },
   "outputs": [],
   "source": [
    "class Solution:\n",
    "    def maxSubArray(self, nums: int) -> int:\n",
    "        \"\"\"\n",
    "        :type nums: List[int]\n",
    "        :rtype: int\n",
    "        \"\"\"\n",
    "        dp = [0] * len(nums)\n",
    "        dp[0] = nums[0]\n",
    "            # maxcurrent = gloabalcurrent = nums[0] \n",
    "        for i in range(1, len(nums)):\n",
    "            dp[i] = max(nums[i] , dp[i-1] + nums[i] )\n",
    "        return max(dp)"
   ]
  },
  {
   "cell_type": "code",
   "execution_count": 149,
   "metadata": {
    "ExecuteTime": {
     "end_time": "2019-04-07T07:43:34.344072Z",
     "start_time": "2019-04-07T07:43:34.340063Z"
    }
   },
   "outputs": [
    {
     "data": {
      "text/plain": [
       "6"
      ]
     },
     "execution_count": 149,
     "metadata": {},
     "output_type": "execute_result"
    }
   ],
   "source": [
    "a = Solution()\n",
    "a.maxSubArray([-2,1,-3,4,-1,2,1,-5,4])"
   ]
  },
  {
   "cell_type": "markdown",
   "metadata": {
    "ExecuteTime": {
     "end_time": "2019-04-07T05:11:09.978225Z",
     "start_time": "2019-04-07T05:11:09.975213Z"
    }
   },
   "source": [
    "### 直线穿过了多少个网格？\n",
    "\n",
    "假定我们从一个网格的(0,0)出发到(X,Y)，画一个直线，问：该直线穿过多少个网格"
   ]
  },
  {
   "cell_type": "code",
   "execution_count": 309,
   "metadata": {
    "ExecuteTime": {
     "end_time": "2019-04-07T11:03:56.853870Z",
     "start_time": "2019-04-07T11:03:56.848872Z"
    }
   },
   "outputs": [
    {
     "data": {
      "text/plain": [
       "2"
      ]
     },
     "execution_count": 309,
     "metadata": {},
     "output_type": "execute_result"
    }
   ],
   "source": [
    "import math\n",
    "X = 1\n",
    "Y = 0\n",
    "k = (Y+1)/(X+1)\n",
    "data = [k*i for i in range(0,X +2)]\n",
    "res = 0\n",
    "for i in range(X+1):\n",
    "  res += (math.ceil(data[i+1]) - int(data[i]))\n",
    "res"
   ]
  },
  {
   "cell_type": "markdown",
   "metadata": {
    "ExecuteTime": {
     "end_time": "2019-04-07T11:04:21.607596Z",
     "start_time": "2019-04-07T11:04:21.604586Z"
    }
   },
   "source": [
    "84%的原因是没有考虑到0或者空的输入，以后需要留意。"
   ]
  },
  {
   "cell_type": "markdown",
   "metadata": {},
   "source": [
    "作者：offer看我一眼\n",
    "链接：https://www.nowcoder.com/discuss/174142?type=1&order=0&pos=7&page=1\n",
    "来源：牛客网\n",
    "\n",
    "只a了第二道。。分两种情况 第一种是x+1是y+1的整数倍或者y+1是x+1的整数倍，这种情况直接输出x+1或者y+1就好了，第二种情况比较麻烦一点要把x+1和y+1同时除以他们的最大公约数，然后计算除外之后的（x+y+1）*最大公约数"
   ]
  },
  {
   "cell_type": "markdown",
   "metadata": {
    "ExecuteTime": {
     "end_time": "2019-04-07T06:02:33.032479Z",
     "start_time": "2019-04-07T06:02:33.028478Z"
    }
   },
   "source": [
    "### 单人两端取数\n",
    "\n",
    "有一个游戏，规则如下：\n",
    "- 有N个数字，一字排开\n",
    "- 每次从这一串数字的开始或者结束取一个数字，记作$\\mathrm A_i$\n",
    "- 玩家开始的时候没有任何数字，取出的数字从左到右放置\n",
    "\n",
    "给定N个数字的一个排列方式，求 $\\max \\mathrm S = \\sum_{1}^{\\mathrm N-1}{\\lvert \\mathrm A_i - \\mathrm A_{i+1} \\lvert} $"
   ]
  },
  {
   "cell_type": "code",
   "execution_count": 311,
   "metadata": {
    "ExecuteTime": {
     "end_time": "2019-04-07T11:04:21.999620Z",
     "start_time": "2019-04-07T11:04:21.995608Z"
    },
    "collapsed": true
   },
   "outputs": [],
   "source": [
    "import copy\n",
    "list_1 = ['5','10','15','20']\n",
    "dict_1 = {i:[] for i in list_1}\n",
    "list_2 = ['a','b']\n",
    "dict_2 = {i:copy.deepcopy(dict_1) for i in list_2}\n"
   ]
  },
  {
   "cell_type": "code",
   "execution_count": 312,
   "metadata": {
    "ExecuteTime": {
     "end_time": "2019-04-07T11:04:22.128648Z",
     "start_time": "2019-04-07T11:04:22.123636Z"
    }
   },
   "outputs": [
    {
     "data": {
      "text/plain": [
       "{'a': {'5': [1], '10': [], '15': [], '20': []},\n",
       " 'b': {'5': [], '10': [], '15': [], '20': []}}"
      ]
     },
     "execution_count": 312,
     "metadata": {},
     "output_type": "execute_result"
    }
   ],
   "source": [
    "dict_2['a']['5'].append(1)\n",
    "dict_2"
   ]
  },
  {
   "cell_type": "markdown",
   "metadata": {
    "ExecuteTime": {
     "end_time": "2019-04-07T08:45:54.771379Z",
     "start_time": "2019-04-07T08:45:54.768385Z"
    }
   },
   "source": [
    "### 121. Best Time to Buy and Sell Stock\n",
    "\n",
    "Say you have an array for which the $i^{th}$ element is the price of a given stock on day $i$.\n",
    "\n",
    "If you were only permitted to complete at most one transaction (i.e., buy one and sell one share of the stock), design an algorithm to find the maximum profit.\n",
    "\n",
    "Note that you cannot sell a stock before you buy one.\n",
    "\n",
    "**Example 1:**\n",
    ">```\n",
    "Input: [7,1,5,3,6,4]\n",
    "Output: 5\n",
    "Explanation: Buy on day 2 (price = 1) and sell on day 5 (price = 6), profit = 6-1 = 5.\n",
    "             Not 7-1 = 6, as selling price needs to be larger than buying price.```\n",
    "\n",
    "**Example 2:**\n",
    ">```\n",
    "Input: [7,6,4,3,1]\n",
    "Output: 0\n",
    "Explanation: In this case, no transaction is done, i.e. max profit = 0.```"
   ]
  },
  {
   "cell_type": "code",
   "execution_count": 205,
   "metadata": {
    "ExecuteTime": {
     "end_time": "2019-04-07T09:56:00.134374Z",
     "start_time": "2019-04-07T09:56:00.129377Z"
    },
    "collapsed": true
   },
   "outputs": [],
   "source": [
    "class Solution:\n",
    "    def maxProfit(self, prices: int) -> int:\n",
    "      res = [None for i in range(1,len(prices))]\n",
    "      for i in range(1,len(prices)):\n",
    "         res[i-1] = max(prices[:i]) - min(prices[i:])\n",
    "      return max(res) if max(res) >= 0 else 0"
   ]
  },
  {
   "cell_type": "code",
   "execution_count": 208,
   "metadata": {
    "ExecuteTime": {
     "end_time": "2019-04-07T09:57:17.554124Z",
     "start_time": "2019-04-07T09:57:15.588742Z"
    }
   },
   "outputs": [
    {
     "data": {
      "text/plain": [
       "0"
      ]
     },
     "execution_count": 208,
     "metadata": {},
     "output_type": "execute_result"
    }
   ],
   "source": [
    "a = Solution()\n",
    "a.maxProfit([i for i in range(10000)])"
   ]
  },
  {
   "cell_type": "code",
   "execution_count": 212,
   "metadata": {
    "ExecuteTime": {
     "end_time": "2019-04-07T10:24:04.438479Z",
     "start_time": "2019-04-07T10:23:56.560999Z"
    }
   },
   "outputs": [
    {
     "data": {
      "text/plain": [
       "0"
      ]
     },
     "execution_count": 212,
     "metadata": {},
     "output_type": "execute_result"
    }
   ],
   "source": [
    "a = Solution()\n",
    "a.maxProfit([i for i in range(20000)])"
   ]
  },
  {
   "cell_type": "markdown",
   "metadata": {},
   "source": [
    "This method is out of time with time complexity O(N^2) and space complexity O(1)."
   ]
  },
  {
   "cell_type": "code",
   "execution_count": 303,
   "metadata": {
    "ExecuteTime": {
     "end_time": "2019-04-07T11:03:19.072355Z",
     "start_time": "2019-04-07T11:03:19.067358Z"
    },
    "collapsed": true
   },
   "outputs": [],
   "source": [
    "class Solution:\n",
    "    def maxProfit(self, prices: int) -> int:\n",
    "        if len(prices) == 0:\n",
    "          return 0\n",
    "        max_profit = 0\n",
    "        min_price = prices[0]\n",
    "        for i in range(len(prices)):\n",
    "            if prices[i] < min_price:\n",
    "                min_price = prices[i]\n",
    "            elif prices[i] - min_price > max_profit:\n",
    "                max_profit =  prices[i] - min_price\n",
    "        return max_profit"
   ]
  },
  {
   "cell_type": "code",
   "execution_count": 304,
   "metadata": {
    "ExecuteTime": {
     "end_time": "2019-04-07T11:03:19.623387Z",
     "start_time": "2019-04-07T11:03:19.620382Z"
    }
   },
   "outputs": [
    {
     "data": {
      "text/plain": [
       "0"
      ]
     },
     "execution_count": 304,
     "metadata": {},
     "output_type": "execute_result"
    }
   ],
   "source": [
    "Solution().maxProfit([])"
   ]
  },
  {
   "cell_type": "code",
   "execution_count": 2,
   "metadata": {
    "ExecuteTime": {
     "end_time": "2019-11-26T08:32:46.401659Z",
     "start_time": "2019-11-26T08:32:46.361766Z"
    },
    "collapsed": true
   },
   "outputs": [],
   "source": [
    "%reset -f "
   ]
  },
  {
   "cell_type": "code",
   "execution_count": 296,
   "metadata": {
    "ExecuteTime": {
     "end_time": "2019-04-07T10:59:43.835983Z",
     "start_time": "2019-04-07T10:59:43.815976Z"
    }
   },
   "outputs": [
    {
     "data": {
      "text/plain": [
       "0"
      ]
     },
     "execution_count": 296,
     "metadata": {},
     "output_type": "execute_result"
    }
   ],
   "source": [
    "import gc\n",
    "gc.collect()"
   ]
  },
  {
   "cell_type": "markdown",
   "metadata": {
    "ExecuteTime": {
     "end_time": "2019-04-07T11:00:51.723533Z",
     "start_time": "2019-04-07T11:00:51.720546Z"
    }
   },
   "source": [
    "### 746. Min Cost Climbing Stairs\n",
    "\n",
    "On a staircase, the i-th step has some non-negative cost cost[i] assigned (0 indexed).\n",
    "\n",
    "Once you pay the cost, you can either climb one or two steps. You need to find minimum cost to reach the top of the floor, and you can either start from the step with index 0, or the step with index 1.\n",
    ">```\n",
    "Example 1:\n",
    "Input: cost = [10, 15, 20]\n",
    "Output: 15\n",
    "Explanation: Cheapest is start on cost[1], pay that cost and go to the top.```\n",
    "\n",
    ">```\n",
    "Example 2:\n",
    "Input: cost = [1, 100, 1, 1, 1, 100, 1, 1, 100, 1]\n",
    "Output: 6\n",
    "Explanation: Cheapest is start on cost[0], and only step on 1s, skipping cost[3].```\n",
    "\n",
    "Note:\n",
    "1. cost will have a length in the range [2, 1000].\n",
    "2. Every cost[i] will be an integer in the range [0, 999]."
   ]
  },
  {
   "cell_type": "code",
   "execution_count": null,
   "metadata": {
    "collapsed": true
   },
   "outputs": [],
   "source": [
    "class Solution:\n",
    "    def minCostClimbingStairs(self, cost: List[int]) -> int:\n",
    "        min_cost[0] =  "
   ]
  },
  {
   "cell_type": "markdown",
   "metadata": {},
   "source": [
    "### 消去一个数字\n",
    "\n",
    "有一个正整数N，可以采取两种操作：\n",
    "\n",
    "1. 把一个数分成两个更小的数字，最多K次\n",
    "2. 每个数减去1\n",
    "\n",
    "问需要多少步骤，把所有的数消去"
   ]
  },
  {
   "cell_type": "code",
   "execution_count": 380,
   "metadata": {
    "ExecuteTime": {
     "end_time": "2019-04-07T13:10:27.243575Z",
     "start_time": "2019-04-07T13:10:27.238577Z"
    }
   },
   "outputs": [
    {
     "name": "stdout",
     "output_type": "stream",
     "text": [
      "[1, 2, 2, 2, 2, 2, 2, 2] 3\n",
      "5\n"
     ]
    }
   ],
   "source": [
    "N = 15 \n",
    "K = 4\n",
    "\n",
    "nums = [N]\n",
    "action_num = 0\n",
    "for i in range(K):\n",
    "  if N ==1:break\n",
    "  action_num += 1\n",
    "  new_nums = []\n",
    "  for j in nums:\n",
    "    new_nums.append(j//2)\n",
    "    new_nums.append(j - j//2)\n",
    "    nums = new_nums\n",
    "  if min(nums) == 1:\n",
    "    break\n",
    "print(nums,action_num)    \n",
    "def check(list1, val): \n",
    "      \n",
    "    # traverse in the list \n",
    "    for x in list1: \n",
    "  \n",
    "        # compare with all the values \n",
    "        # with val \n",
    "        if val > 0: \n",
    "            return False \n",
    "    return True\n",
    "print(max(nums) + action_num)"
   ]
  },
  {
   "cell_type": "markdown",
   "metadata": {
    "ExecuteTime": {
     "end_time": "2019-04-07T12:48:56.781259Z",
     "start_time": "2019-04-07T12:48:56.778260Z"
    }
   },
   "source": [
    "### 村庄相互运苹果\n",
    "\n",
    "有n个村庄等距分布，他们的属性$a_i$表示需要贩卖或者购买苹果。n个村庄的供求相等，问需要多少运输单位？"
   ]
  },
  {
   "cell_type": "markdown",
   "metadata": {
    "ExecuteTime": {
     "end_time": "2019-04-07T13:54:27.963768Z",
     "start_time": "2019-04-07T13:54:27.959767Z"
    }
   },
   "source": [
    "### 每次减去一个最小的非0数字\n",
    "\n",
    "对于一个列表，每次操作输出最小的非0数，并且把列表中的非0数字减去这个值。如果列表中所有数字都是0，则输出0。操作次数为k。"
   ]
  },
  {
   "cell_type": "code",
   "execution_count": 412,
   "metadata": {
    "ExecuteTime": {
     "end_time": "2019-04-07T13:38:50.799445Z",
     "start_time": "2019-04-07T13:38:50.793435Z"
    },
    "collapsed": true
   },
   "outputs": [
    {
     "name": "stdout",
     "output_type": "stream",
     "text": [
      "4\n",
      "2\n",
      "0\n",
      "0\n",
      "0\n",
      "0\n",
      "0\n",
      "0\n",
      "0\n",
      "0\n",
      "0\n",
      "0\n",
      "0\n",
      "0\n",
      "0\n",
      "0\n",
      "0\n",
      "0\n",
      "0\n",
      "0\n",
      "0\n",
      "0\n",
      "0\n",
      "0\n",
      "0\n",
      "0\n",
      "0\n",
      "0\n",
      "0\n",
      "0\n",
      "0\n",
      "0\n",
      "0\n",
      "0\n",
      "0\n",
      "0\n",
      "0\n",
      "0\n",
      "0\n",
      "0\n",
      "0\n",
      "0\n",
      "0\n",
      "0\n",
      "0\n",
      "0\n",
      "0\n",
      "0\n",
      "0\n",
      "0\n",
      "0\n",
      "0\n",
      "0\n",
      "0\n",
      "0\n",
      "0\n",
      "0\n",
      "0\n",
      "0\n",
      "0\n",
      "0\n",
      "0\n",
      "0\n",
      "0\n",
      "0\n",
      "0\n",
      "0\n",
      "0\n",
      "0\n",
      "0\n",
      "0\n",
      "0\n",
      "0\n",
      "0\n",
      "0\n",
      "0\n",
      "0\n",
      "0\n",
      "0\n",
      "0\n",
      "0\n",
      "0\n",
      "0\n",
      "0\n",
      "0\n",
      "0\n",
      "0\n",
      "0\n",
      "0\n",
      "0\n",
      "0\n",
      "0\n",
      "0\n",
      "0\n",
      "0\n",
      "0\n",
      "0\n",
      "0\n",
      "0\n",
      "0\n"
     ]
    }
   ],
   "source": [
    "n = 2\n",
    "k = 100\n",
    "nums = [4,6]\n",
    "\n",
    "def my_minus(x):\n",
    "    y = [i for i in x if i > 0]\n",
    "    y_min = 0 if len(y) == 0 else min(y)\n",
    "    print(y_min)\n",
    "    return [max(i - y_min,0) for i in x]\n",
    "for i in range(k):\n",
    "  nums = my_minus(nums)\n",
    "  "
   ]
  },
  {
   "cell_type": "code",
   "execution_count": 413,
   "metadata": {
    "ExecuteTime": {
     "end_time": "2019-04-07T13:39:55.990821Z",
     "start_time": "2019-04-07T13:39:55.986834Z"
    }
   },
   "outputs": [
    {
     "name": "stdout",
     "output_type": "stream",
     "text": [
      "1\n"
     ]
    }
   ],
   "source": [
    "if not []:\n",
    "  print(1)"
   ]
  },
  {
   "cell_type": "markdown",
   "metadata": {},
   "source": [
    "### 不相交的两个子数组最小和\n",
    "\n",
    "输入一个数组，返回两个不相交的子数组的最小和。\n",
    "\n",
    "思路是：\n",
    "\n",
    "1. 从左到右动态规划每个位置上的以该位置结尾的子数组最小和，记为Left\n",
    "2. 从右边到左边最小化每个位置上的子数组最小和，记为Right\n",
    "3. 融合两个数组，每个位置的值等于Left的指针左侧的最小值+Right指针右侧的最小值。\n",
    "4. 最终求最小值就得到不想交的子数组之和\n",
    "\n",
    "To do：\n",
    "1. 如果是三个子数组呢？四个子数组呢？\n",
    "2. 如果不仅要得到最小和，还要得到取最小和的子数组的首尾位置呢？"
   ]
  },
  {
   "cell_type": "code",
   "execution_count": 14,
   "metadata": {
    "collapsed": true
   },
   "outputs": [],
   "source": [
    "class Solution:\n",
    "    def min2SubArray(self, nums: int) -> int:\n",
    "        \"\"\"\n",
    "        :type nums: List[int]\n",
    "        :rtype: int\n",
    "        \"\"\"\n",
    "        Left = nums[:]\n",
    "        for i in range(1,len(nums)):\n",
    "            Left[i] = min(Left[i] + Left[i-1],Left[i]) \n",
    "        Right = nums[:]\n",
    "        for i in range(len(nums)-2,-1,-1):\n",
    "            Right[i] = min(Right[i] + Right[i+1],Right[i])   \n",
    "        res = [min(Left[:i+1])+ min(Right[i+1:])  for i in range(len(nums)-1)]\n",
    "        return min(res)"
   ]
  },
  {
   "cell_type": "code",
   "execution_count": 15,
   "metadata": {},
   "outputs": [
    {
     "data": {
      "text/plain": [
       "-23"
      ]
     },
     "execution_count": 15,
     "metadata": {},
     "output_type": "execute_result"
    }
   ],
   "source": [
    "Solution().min2SubArray(nums = [2,-2,8,6-10,-7,-10,1,9])"
   ]
  },
  {
   "cell_type": "markdown",
   "metadata": {
    "ExecuteTime": {
     "end_time": "2019-08-04T01:24:20.744479Z",
     "start_time": "2019-08-04T01:24:20.737499Z"
    }
   },
   "source": [
    "### 最小栈\n",
    "\n",
    "设计一个支持 push，pop，top 操作，并能在常数时间内检索到最小元素的栈。\n",
    "\n",
    "push(x) -- 将元素 x 推入栈中。\n",
    "\n",
    "pop() -- 删除栈顶的元素。\n",
    "\n",
    "top() -- 获取栈顶元素。\n",
    "\n",
    "getMin() -- 检索栈中的最小元素。\n"
   ]
  },
  {
   "cell_type": "markdown",
   "metadata": {
    "collapsed": true
   },
   "source": [
    "- 借用一个辅助栈min_stack，用于存储stack中最小值：\n",
    "    - push:每当push新值进来时，如果“小于等于”min_stack栈顶值，则一起push到min_stack，即更新了最小值；\n",
    "    - pop:判断pop出去的元素值是否是min_stack栈顶元素值（即最小值），如果是则将min_stack栈顶元素一起pop，这样可以保证min_stack栈顶元素始终是stack中的最小值。\n",
    "    - getMin:返回min_stack栈顶即可。\n",
    "- min_stack的作用是对stack中的元素做标记，标记的原则是min_stack中元素一定是降序的（栈底最大栈顶最小）。换个角度理解，min_stack等价于遍历stack所有元素，把升序的数字都删除掉，留下一个从栈底到栈顶降序的栈。本题要求获取最小值的复杂度是O(1)，因此须构建辅助栈，在push与pop的过程中始终保持辅助栈为一个降序栈。\n",
    "- 时间空间复杂度都为O(N)，获取最小值复杂度为O(1)。"
   ]
  },
  {
   "cell_type": "code",
   "execution_count": 3,
   "metadata": {
    "ExecuteTime": {
     "end_time": "2019-08-04T01:23:55.404234Z",
     "start_time": "2019-08-04T01:23:55.393263Z"
    },
    "collapsed": true
   },
   "outputs": [],
   "source": [
    "class MinStack:\n",
    "    def __init__(self):\n",
    "        \"\"\"\n",
    "        initialize your data structure here.\n",
    "        \"\"\"\n",
    "        self.stack = []\n",
    "        self.min_stack = []\n",
    " \n",
    "    def push(self, x: int) -> None:\n",
    "        self.stack.append(x)\n",
    "        if not self.min_stack or x <= self.min_stack[-1]: \n",
    "            self.min_stack.append(x)\n",
    "    def pop(self) -> None:\n",
    "        if self.stack.pop() == self.min_stack[-1]:\n",
    "            self.min_stack.pop()\n",
    "        \n",
    "    def top(self) -> int:\n",
    "        return self.stack[-1]\n",
    "        \n",
    "    def getMin(self) -> int:\n",
    "        return self.min_stack[-1]\n"
   ]
  },
  {
   "cell_type": "markdown",
   "metadata": {
    "ExecuteTime": {
     "end_time": "2019-08-04T01:37:10.980774Z",
     "start_time": "2019-08-04T01:37:10.971799Z"
    }
   },
   "source": [
    "### 有效的括号\n",
    "\n",
    "给定一个只包括 '('，')'，'{'，'}'，'['，']' 的字符串，判断字符串是否有效。\n",
    "\n",
    "有效字符串需满足：\n",
    "\n",
    "- 左括号必须用相同类型的右括号闭合。\n",
    "- 左括号必须以正确的顺序闭合。\n",
    "- 注意空字符串可被认为是有效字符串。\n",
    "\n",
    "```输入: \"([)]\"\n",
    "输出: false```\n",
    "\n",
    "```输入: \"()[]{}\"\n",
    "输出: true```\n"
   ]
  },
  {
   "cell_type": "code",
   "execution_count": 11,
   "metadata": {
    "ExecuteTime": {
     "end_time": "2019-08-04T01:31:17.802982Z",
     "start_time": "2019-08-04T01:31:17.796998Z"
    }
   },
   "outputs": [
    {
     "data": {
      "text/plain": [
       "'[123'"
      ]
     },
     "execution_count": 11,
     "metadata": {},
     "output_type": "execute_result"
    }
   ],
   "source": [
    "class Solution(object):\n",
    "    def isValid(self, s):\n",
    "        stack = []\n",
    "        judge = {'()','[]','{}'}\n",
    "        for i in s:\n",
    "            if not stack: \n",
    "                stack.append(i)\n",
    "            else:\n",
    "                if stack[-1]+i in judge:\n",
    "                    stack.pop()\n",
    "                else:\n",
    "                    stack.append(i)\n",
    "                    \n",
    "        return stack == []"
   ]
  },
  {
   "cell_type": "code",
   "execution_count": null,
   "metadata": {
    "collapsed": true
   },
   "outputs": [],
   "source": [
    "def isValid(self, s: str) -> bool:\n",
    "    D={'(':1,'[':2,'{':3,')':-1,']':-2,'}':-3}\n",
    "    re=[]\n",
    "    if s=='':\n",
    "        return True\n",
    "    else:\n",
    "        re.append(D[s[0]])\n",
    "    if sum(re)<0:\n",
    "        return False\n",
    "    for i in s[1:]:\n",
    "        if re==[]:\n",
    "            re.append(D[i])\n",
    "        elif D[i]+re[-1]==0:\n",
    "            re.pop()\n",
    "        else:\n",
    "            re.append(D[i])\n",
    "    return re==[]"
   ]
  },
  {
   "cell_type": "markdown",
   "metadata": {},
   "source": [
    "### Longest Substring Without Repeating Characters\n",
    "\n",
    "Given a string, find the length of the longest substring without repeating characters.\n",
    "\n",
    "Example 1:\n",
    ">```\n",
    "Input: \"abcabcbb\"\n",
    "Output: 3 \n",
    "Explanation: The answer is \"abc\", with the length of 3. \n",
    "```\n",
    "\n",
    "Example 2:\n",
    ">```\n",
    "Input: \"bbbbb\"\n",
    "Output: 1\n",
    "Explanation: The answer is \"b\", with the length of 1.\n",
    "```\n",
    "\n",
    "Example 3:\n",
    "\n",
    ">```\n",
    "Input: \"pwwkew\"\n",
    "Output: 3\n",
    "Explanation: The answer is \"wke\", with the length of 3. \n",
    "             Note that the answer must be a substring, \"pwke\" is a subsequence and not a substring.\n",
    "```             "
   ]
  },
  {
   "cell_type": "code",
   "execution_count": null,
   "metadata": {
    "collapsed": true
   },
   "outputs": [],
   "source": []
  }
 ],
 "metadata": {
  "kernelspec": {
   "display_name": "Python 3",
   "language": "python",
   "name": "python3"
  },
  "language_info": {
   "codemirror_mode": {
    "name": "ipython",
    "version": 3
   },
   "file_extension": ".py",
   "mimetype": "text/x-python",
   "name": "python",
   "nbconvert_exporter": "python",
   "pygments_lexer": "ipython3",
   "version": "3.6.1"
  },
  "toc": {
   "base_numbering": 1,
   "nav_menu": {},
   "number_sections": true,
   "sideBar": true,
   "skip_h1_title": false,
   "title_cell": "Table of Contents",
   "title_sidebar": "Contents",
   "toc_cell": false,
   "toc_position": {},
   "toc_section_display": true,
   "toc_window_display": false
  },
  "varInspector": {
   "cols": {
    "lenName": 16,
    "lenType": 16,
    "lenVar": 40
   },
   "kernels_config": {
    "python": {
     "delete_cmd_postfix": "",
     "delete_cmd_prefix": "del ",
     "library": "var_list.py",
     "varRefreshCmd": "print(var_dic_list())"
    },
    "r": {
     "delete_cmd_postfix": ") ",
     "delete_cmd_prefix": "rm(",
     "library": "var_list.r",
     "varRefreshCmd": "cat(var_dic_list()) "
    }
   },
   "types_to_exclude": [
    "module",
    "function",
    "builtin_function_or_method",
    "instance",
    "_Feature"
   ],
   "window_display": false
  },
  "widgets": {
   "application/vnd.jupyter.widget-state+json": {
    "state": {},
    "version_major": 2,
    "version_minor": 0
   }
  }
 },
 "nbformat": 4,
 "nbformat_minor": 2
}
